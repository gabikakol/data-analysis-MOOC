{
 "cells": [
  {
   "cell_type": "markdown",
   "metadata": {},
   "source": [
    "# Linear regression"
   ]
  },
  {
   "cell_type": "markdown",
   "metadata": {},
   "source": [
    "Import all the modules you will need in this notebook here:"
   ]
  },
  {
   "cell_type": "code",
   "execution_count": 55,
   "metadata": {},
   "outputs": [],
   "source": [
    "# exercise 0\n",
    "# Put your solution here!\n",
    "import numpy as np\n",
    "import matplotlib.pyplot as plt\n",
    "import statsmodels\n",
    "import statsmodels.api as sm\n",
    "import statsmodels.formula.api as smf\n",
    "# plots a line given an intercept and a slope\n",
    "from statsmodels.graphics.regressionplots import abline_plot\n",
    "import pandas as pd"
   ]
  },
  {
   "cell_type": "markdown",
   "metadata": {},
   "source": [
    "We continue analysing the `fram` heart disease data.\n",
    "\n",
    "First load the data, use the name `fram` for the DataFrame variable. Make sure that in the data you loaded the column and row headers are in place. Checkout the summary of the variables using the `describe` method."
   ]
  },
  {
   "cell_type": "code",
   "execution_count": 56,
   "metadata": {},
   "outputs": [
    {
     "data": {
      "text/html": [
       "<div>\n",
       "<style scoped>\n",
       "    .dataframe tbody tr th:only-of-type {\n",
       "        vertical-align: middle;\n",
       "    }\n",
       "\n",
       "    .dataframe tbody tr th {\n",
       "        vertical-align: top;\n",
       "    }\n",
       "\n",
       "    .dataframe thead th {\n",
       "        text-align: right;\n",
       "    }\n",
       "</style>\n",
       "<table border=\"1\" class=\"dataframe\">\n",
       "  <thead>\n",
       "    <tr style=\"text-align: right;\">\n",
       "      <th></th>\n",
       "      <th>ID</th>\n",
       "      <th>AGE</th>\n",
       "      <th>FRW</th>\n",
       "      <th>SBP</th>\n",
       "      <th>SBP10</th>\n",
       "      <th>DBP</th>\n",
       "      <th>CHOL</th>\n",
       "      <th>CIG</th>\n",
       "      <th>CHD</th>\n",
       "      <th>DEATH</th>\n",
       "      <th>YRS_DTH</th>\n",
       "    </tr>\n",
       "  </thead>\n",
       "  <tbody>\n",
       "    <tr>\n",
       "      <th>count</th>\n",
       "      <td>1394.000000</td>\n",
       "      <td>1394.000000</td>\n",
       "      <td>1394.000000</td>\n",
       "      <td>1394.000000</td>\n",
       "      <td>767.000000</td>\n",
       "      <td>1394.000000</td>\n",
       "      <td>1394.000000</td>\n",
       "      <td>1394.000000</td>\n",
       "      <td>1394.000000</td>\n",
       "      <td>1394.000000</td>\n",
       "      <td>1394.000000</td>\n",
       "    </tr>\n",
       "    <tr>\n",
       "      <th>mean</th>\n",
       "      <td>4737.184362</td>\n",
       "      <td>52.431133</td>\n",
       "      <td>105.365136</td>\n",
       "      <td>148.086083</td>\n",
       "      <td>148.040417</td>\n",
       "      <td>90.135581</td>\n",
       "      <td>234.644907</td>\n",
       "      <td>8.029412</td>\n",
       "      <td>1.187948</td>\n",
       "      <td>1.700861</td>\n",
       "      <td>16.219512</td>\n",
       "    </tr>\n",
       "    <tr>\n",
       "      <th>std</th>\n",
       "      <td>1073.406896</td>\n",
       "      <td>4.781507</td>\n",
       "      <td>17.752489</td>\n",
       "      <td>28.022062</td>\n",
       "      <td>25.706664</td>\n",
       "      <td>14.226235</td>\n",
       "      <td>46.303822</td>\n",
       "      <td>11.584138</td>\n",
       "      <td>2.615976</td>\n",
       "      <td>3.203132</td>\n",
       "      <td>3.921413</td>\n",
       "    </tr>\n",
       "    <tr>\n",
       "      <th>min</th>\n",
       "      <td>1070.000000</td>\n",
       "      <td>45.000000</td>\n",
       "      <td>52.000000</td>\n",
       "      <td>90.000000</td>\n",
       "      <td>94.000000</td>\n",
       "      <td>50.000000</td>\n",
       "      <td>96.000000</td>\n",
       "      <td>0.000000</td>\n",
       "      <td>0.000000</td>\n",
       "      <td>0.000000</td>\n",
       "      <td>1.000000</td>\n",
       "    </tr>\n",
       "    <tr>\n",
       "      <th>25%</th>\n",
       "      <td>3890.250000</td>\n",
       "      <td>48.000000</td>\n",
       "      <td>94.000000</td>\n",
       "      <td>130.000000</td>\n",
       "      <td>130.000000</td>\n",
       "      <td>80.000000</td>\n",
       "      <td>200.000000</td>\n",
       "      <td>0.000000</td>\n",
       "      <td>0.000000</td>\n",
       "      <td>0.000000</td>\n",
       "      <td>18.000000</td>\n",
       "    </tr>\n",
       "    <tr>\n",
       "      <th>50%</th>\n",
       "      <td>4821.000000</td>\n",
       "      <td>52.000000</td>\n",
       "      <td>103.000000</td>\n",
       "      <td>142.000000</td>\n",
       "      <td>145.000000</td>\n",
       "      <td>90.000000</td>\n",
       "      <td>230.000000</td>\n",
       "      <td>0.000000</td>\n",
       "      <td>0.000000</td>\n",
       "      <td>0.000000</td>\n",
       "      <td>18.000000</td>\n",
       "    </tr>\n",
       "    <tr>\n",
       "      <th>75%</th>\n",
       "      <td>5641.750000</td>\n",
       "      <td>56.000000</td>\n",
       "      <td>114.000000</td>\n",
       "      <td>160.000000</td>\n",
       "      <td>160.000000</td>\n",
       "      <td>98.000000</td>\n",
       "      <td>264.000000</td>\n",
       "      <td>20.000000</td>\n",
       "      <td>0.000000</td>\n",
       "      <td>0.000000</td>\n",
       "      <td>18.000000</td>\n",
       "    </tr>\n",
       "    <tr>\n",
       "      <th>max</th>\n",
       "      <td>6442.000000</td>\n",
       "      <td>62.000000</td>\n",
       "      <td>222.000000</td>\n",
       "      <td>300.000000</td>\n",
       "      <td>264.000000</td>\n",
       "      <td>160.000000</td>\n",
       "      <td>430.000000</td>\n",
       "      <td>60.000000</td>\n",
       "      <td>10.000000</td>\n",
       "      <td>10.000000</td>\n",
       "      <td>18.000000</td>\n",
       "    </tr>\n",
       "  </tbody>\n",
       "</table>\n",
       "</div>"
      ],
      "text/plain": [
       "                ID          AGE          FRW          SBP       SBP10  \\\n",
       "count  1394.000000  1394.000000  1394.000000  1394.000000  767.000000   \n",
       "mean   4737.184362    52.431133   105.365136   148.086083  148.040417   \n",
       "std    1073.406896     4.781507    17.752489    28.022062   25.706664   \n",
       "min    1070.000000    45.000000    52.000000    90.000000   94.000000   \n",
       "25%    3890.250000    48.000000    94.000000   130.000000  130.000000   \n",
       "50%    4821.000000    52.000000   103.000000   142.000000  145.000000   \n",
       "75%    5641.750000    56.000000   114.000000   160.000000  160.000000   \n",
       "max    6442.000000    62.000000   222.000000   300.000000  264.000000   \n",
       "\n",
       "               DBP         CHOL          CIG          CHD        DEATH  \\\n",
       "count  1394.000000  1394.000000  1394.000000  1394.000000  1394.000000   \n",
       "mean     90.135581   234.644907     8.029412     1.187948     1.700861   \n",
       "std      14.226235    46.303822    11.584138     2.615976     3.203132   \n",
       "min      50.000000    96.000000     0.000000     0.000000     0.000000   \n",
       "25%      80.000000   200.000000     0.000000     0.000000     0.000000   \n",
       "50%      90.000000   230.000000     0.000000     0.000000     0.000000   \n",
       "75%      98.000000   264.000000    20.000000     0.000000     0.000000   \n",
       "max     160.000000   430.000000    60.000000    10.000000    10.000000   \n",
       "\n",
       "           YRS_DTH  \n",
       "count  1394.000000  \n",
       "mean     16.219512  \n",
       "std       3.921413  \n",
       "min       1.000000  \n",
       "25%      18.000000  \n",
       "50%      18.000000  \n",
       "75%      18.000000  \n",
       "max      18.000000  "
      ]
     },
     "execution_count": 56,
     "metadata": {},
     "output_type": "execute_result"
    }
   ],
   "source": [
    "# exercise 1\n",
    "def get_path(filename):\n",
    "    import sys\n",
    "    import os\n",
    "    prog_name = sys.argv[0]\n",
    "    if os.path.basename(prog_name) == \"__main__.py\":   # Running under TMC\n",
    "        return os.path.join(os.path.dirname(prog_name), \"..\", \"src\", filename)\n",
    "    else:\n",
    "        return filename\n",
    "    \n",
    "# Put your solution here!\n",
    "fram = pd.read_csv(get_path('fram.txt'), sep='\\t')\n",
    "fram.describe()"
   ]
  },
  {
   "cell_type": "markdown",
   "metadata": {},
   "source": [
    "Create function `rescale` that takes a Series as parameter. It should center the data and normalize it by dividing\n",
    "by 2$\\sigma$, where $\\sigma$ is the standard deviation. Return the rescaled Series."
   ]
  },
  {
   "cell_type": "code",
   "execution_count": 57,
   "metadata": {},
   "outputs": [],
   "source": [
    "# exercise 2\n",
    "# Put your solution here!\n",
    "\n",
    "def rescale(series):\n",
    "    return (series - series.mean()) / (series.std()*2)"
   ]
  },
  {
   "cell_type": "markdown",
   "metadata": {},
   "source": [
    "Add to the DataFrame the scaled versions of all the continuous variables (with function `rescale`). Add small letter `s` in front of the original variable name to get the name of the scaled variable. For instance, `AGE` -> `sAGE`."
   ]
  },
  {
   "cell_type": "code",
   "execution_count": 58,
   "metadata": {},
   "outputs": [],
   "source": [
    "# exercise 3\n",
    "# Put your solution here!\n",
    "\n",
    "fram[\"sAGE\"] = rescale(fram.AGE)\n",
    "fram[\"sFRW\"] = rescale(fram.FRW)\n",
    "fram[\"sSBP\"] = rescale(fram.SBP)\n",
    "fram[\"sSBP10\"] = rescale(fram.SBP10)\n",
    "fram[\"sDBP\"] = rescale(fram.DBP)\n",
    "fram[\"sCHOL\"] = rescale(fram.CHOL)\n",
    "fram[\"sCIG\"] = rescale(fram.CIG)\n",
    "fram[\"sCHD\"] = rescale(fram.CHD)\n",
    "fram[\"sDEATH\"] = rescale(fram.DEATH)\n",
    "fram[\"sYRS_DTH\"] = rescale(fram.YRS_DTH)\n"
   ]
  },
  {
   "cell_type": "markdown",
   "metadata": {},
   "source": [
    "Form a model that predicts systolic blood pressure using weight, gender, and cholesterol level as explanatory variables. Store the fitted model in variable named `fit`."
   ]
  },
  {
   "cell_type": "code",
   "execution_count": 59,
   "metadata": {},
   "outputs": [
    {
     "name": "stdout",
     "output_type": "stream",
     "text": [
      "                            OLS Regression Results                            \n",
      "==============================================================================\n",
      "Dep. Variable:                    SBP   R-squared:                       0.125\n",
      "Model:                            OLS   Adj. R-squared:                  0.123\n",
      "Method:                 Least Squares   F-statistic:                     66.37\n",
      "Date:                Mon, 11 Dec 2023   Prob (F-statistic):           4.13e-40\n",
      "Time:                        14:24:26   Log-Likelihood:                -6530.4\n",
      "No. Observations:                1394   AIC:                         1.307e+04\n",
      "Df Residuals:                    1390   BIC:                         1.309e+04\n",
      "Df Model:                           3                                         \n",
      "Covariance Type:            nonrobust                                         \n",
      "===============================================================================\n",
      "                  coef    std err          t      P>|t|      [0.025      0.975]\n",
      "-------------------------------------------------------------------------------\n",
      "Intercept     150.0199      0.985    152.336      0.000     148.088     151.952\n",
      "SEX[T.male]    -4.0659      1.451     -2.803      0.005      -6.912      -1.220\n",
      "sFRW           17.7205      1.426     12.431      0.000      14.924      20.517\n",
      "sCHOL           4.9169      1.431      3.436      0.001       2.110       7.724\n",
      "==============================================================================\n",
      "Omnibus:                      327.612   Durbin-Watson:                   1.774\n",
      "Prob(Omnibus):                  0.000   Jarque-Bera (JB):              843.676\n",
      "Skew:                           1.237   Prob(JB):                    6.28e-184\n",
      "Kurtosis:                       5.899   Cond. No.                         2.79\n",
      "==============================================================================\n",
      "\n",
      "Notes:\n",
      "[1] Standard Errors assume that the covariance matrix of the errors is correctly specified.\n"
     ]
    }
   ],
   "source": [
    "# exercise 4\n",
    "# Put your solution here!\n",
    "\n",
    "fit = smf.ols('SBP ~ sFRW + SEX + sCHOL', data=fram).fit()\n",
    "print(fit.summary())"
   ]
  },
  {
   "cell_type": "markdown",
   "metadata": {},
   "source": [
    "Add the variable AGE to the model and inspect the estimates of the coefficients using the `summary` method of the fitted model. Again use the name `fit` for the fitted model. (From now on assume that we always use the name `fit` for the variable of the fitted model.)"
   ]
  },
  {
   "cell_type": "code",
   "execution_count": 60,
   "metadata": {},
   "outputs": [
    {
     "name": "stdout",
     "output_type": "stream",
     "text": [
      "                            OLS Regression Results                            \n",
      "==============================================================================\n",
      "Dep. Variable:                    SBP   R-squared:                       0.146\n",
      "Model:                            OLS   Adj. R-squared:                  0.144\n",
      "Method:                 Least Squares   F-statistic:                     59.39\n",
      "Date:                Mon, 11 Dec 2023   Prob (F-statistic):           2.44e-46\n",
      "Time:                        14:24:28   Log-Likelihood:                -6513.6\n",
      "No. Observations:                1394   AIC:                         1.304e+04\n",
      "Df Residuals:                    1389   BIC:                         1.306e+04\n",
      "Df Model:                           4                                         \n",
      "Covariance Type:            nonrobust                                         \n",
      "===============================================================================\n",
      "                  coef    std err          t      P>|t|      [0.025      0.975]\n",
      "-------------------------------------------------------------------------------\n",
      "Intercept     150.1695      0.974    154.221      0.000     148.259     152.080\n",
      "SEX[T.male]    -4.3805      1.435     -3.053      0.002      -7.195      -1.566\n",
      "sFRW           16.9771      1.415     11.999      0.000      14.202      19.753\n",
      "sCHOL           4.2696      1.419      3.009      0.003       1.486       7.053\n",
      "sAGE            8.1332      1.400      5.810      0.000       5.387      10.879\n",
      "==============================================================================\n",
      "Omnibus:                      321.087   Durbin-Watson:                   1.807\n",
      "Prob(Omnibus):                  0.000   Jarque-Bera (JB):              840.955\n",
      "Skew:                           1.206   Prob(JB):                    2.45e-183\n",
      "Kurtosis:                       5.944   Cond. No.                         2.82\n",
      "==============================================================================\n",
      "\n",
      "Notes:\n",
      "[1] Standard Errors assume that the covariance matrix of the errors is correctly specified.\n"
     ]
    }
   ],
   "source": [
    "# exercise 5\n",
    "# Put your solution here!\n",
    "\n",
    "fit = smf.ols('SBP ~ sFRW + SEX + sCHOL + sAGE', data=fram).fit()\n",
    "print(fit.summary())"
   ]
  },
  {
   "cell_type": "markdown",
   "metadata": {},
   "source": [
    "How much does the inclusion of age increase the explanatory power of the model? Which variables explain the variance of the target variable most?\n",
    "\n",
    "***\n",
    "\n",
    "Your solution here\n",
    "\n",
    "Inclusion of age increases the explanatory power of the model from 0.125 to 0.146, so by 2.1%. \n",
    "The variables sFRW and sAGE explain the variance of the target variable the most since they have the highest coefficients.\n",
    "\n",
    "***"
   ]
  },
  {
   "cell_type": "markdown",
   "metadata": {},
   "source": [
    "Try to add to the model all the interactions with other variables. "
   ]
  },
  {
   "cell_type": "code",
   "execution_count": 61,
   "metadata": {},
   "outputs": [
    {
     "name": "stdout",
     "output_type": "stream",
     "text": [
      "                            OLS Regression Results                            \n",
      "==============================================================================\n",
      "Dep. Variable:                    SBP   R-squared:                       0.151\n",
      "Model:                            OLS   Adj. R-squared:                  0.144\n",
      "Method:                 Least Squares   F-statistic:                     24.52\n",
      "Date:                Mon, 11 Dec 2023   Prob (F-statistic):           4.92e-43\n",
      "Time:                        14:24:30   Log-Likelihood:                -6509.9\n",
      "No. Observations:                1394   AIC:                         1.304e+04\n",
      "Df Residuals:                    1383   BIC:                         1.310e+04\n",
      "Df Model:                          10                                         \n",
      "Covariance Type:            nonrobust                                         \n",
      "=====================================================================================\n",
      "                        coef    std err          t      P>|t|      [0.025      0.975]\n",
      "-------------------------------------------------------------------------------------\n",
      "Intercept           150.5439      1.001    150.355      0.000     148.580     152.508\n",
      "SEX[T.male]          -4.7309      1.451     -3.261      0.001      -7.577      -1.885\n",
      "sFRW                 16.6450      1.723      9.660      0.000      13.265      20.025\n",
      "sFRW:SEX[T.male]      1.6673      3.088      0.540      0.589      -4.390       7.725\n",
      "sCHOL                 3.6181      1.878      1.926      0.054      -0.066       7.302\n",
      "SEX[T.male]:sCHOL     1.0231      2.933      0.349      0.727      -4.730       6.776\n",
      "sAGE                 10.2189      2.003      5.101      0.000       6.289      14.149\n",
      "SEX[T.male]:sAGE     -4.2923      2.886     -1.488      0.137      -9.953       1.368\n",
      "sFRW:sCHOL            4.9729      2.718      1.829      0.068      -0.359      10.305\n",
      "sFRW:sAGE            -2.0866      2.803     -0.744      0.457      -7.585       3.412\n",
      "sCHOL:sAGE           -4.7564      3.044     -1.563      0.118     -10.728       1.215\n",
      "==============================================================================\n",
      "Omnibus:                      313.112   Durbin-Watson:                   1.798\n",
      "Prob(Omnibus):                  0.000   Jarque-Bera (JB):              802.290\n",
      "Skew:                           1.185   Prob(JB):                    6.10e-175\n",
      "Kurtosis:                       5.863   Cond. No.                         6.02\n",
      "==============================================================================\n",
      "\n",
      "Notes:\n",
      "[1] Standard Errors assume that the covariance matrix of the errors is correctly specified.\n"
     ]
    }
   ],
   "source": [
    "# exercise 6\n",
    "# Put your solution here!\n",
    "\n",
    "fit = smf.ols('SBP ~ sFRW + SEX + sCHOL + sAGE + sFRW:SEX + sFRW:sCHOL + sFRW:sAGE + SEX:sCHOL + SEX:sAGE + sCHOL:sAGE', data=fram).fit()\n",
    "print(fit.summary())"
   ]
  },
  {
   "cell_type": "markdown",
   "metadata": {},
   "source": [
    "Then visualize the model as the function of weight for the youngest (sAGE=-1.0), middle aged (sAGE=0.0), and oldest (sAGE=1.0) women while assuming the background variables to be centered. Remember to consider the changes in the intercept and in the regression coefficient caused by age. Visualize both the data points and the fitted lines."
   ]
  },
  {
   "cell_type": "code",
   "execution_count": 62,
   "metadata": {},
   "outputs": [
    {
     "data": {
      "text/plain": [
       "<matplotlib.legend.Legend at 0x7f6d9178e980>"
      ]
     },
     "execution_count": 62,
     "metadata": {},
     "output_type": "execute_result"
    },
    {
     "data": {
      "image/png": "[encoded data removed]",
      "text/plain": [
       "<Figure size 432x288 with 1 Axes>"
      ]
     },
     "metadata": {
      "needs_background": "light"
     },
     "output_type": "display_data"
    }
   ],
   "source": [
    "# exercise 7\n",
    "# Put your solution here!\n",
    "\n",
    "p = fit.params\n",
    "fram[fram.SEX=='female'].plot.scatter('sFRW', 'SBP')\n",
    "abline_plot(intercept=p.Intercept - p['sAGE'], slope=p.sFRW - p['sFRW:sAGE'],ax=plt.gca(), color='blue', label='youngest (sAGE=-1.0)')\n",
    "abline_plot(intercept=p.Intercept, slope=p.sFRW,ax=plt.gca(), color='yellow', label='middle aged (sAGE=0.0)')\n",
    "abline_plot(intercept=p.Intercept + p['sAGE'], slope=p.sFRW + p['sFRW:sAGE'],ax=plt.gca(), color='red', label='oldest (sAGE=1.0)')\n",
    "plt.legend()\n"
   ]
  },
  {
   "cell_type": "markdown",
   "metadata": {},
   "source": [
    "How does the dependence of blood pressure on weight change as a person gets older?\n",
    "***\n",
    "\n",
    "Your solution here.\n",
    "\n",
    "As a person gets older, there is less dependance of blood pressure on weight. \n",
    "***"
   ]
  },
  {
   "cell_type": "markdown",
   "metadata": {},
   "source": [
    "### Even more accurate model\n",
    "\n",
    "Include the background variable `sCIG` from the data and its interactions. Visualize the model for systolic blood pressure as the function of the most important explanatory variable. Visualize separate lines for the small (-1.0), average (0.0), and large (1.0) values of `sCHOL`. Other variables can be assumed to be at their mean value."
   ]
  },
  {
   "cell_type": "code",
   "execution_count": 65,
   "metadata": {},
   "outputs": [
    {
     "name": "stdout",
     "output_type": "stream",
     "text": [
      "                            OLS Regression Results                            \n",
      "==============================================================================\n",
      "Dep. Variable:                    SBP   R-squared:                       0.152\n",
      "Model:                            OLS   Adj. R-squared:                  0.143\n",
      "Method:                 Least Squares   F-statistic:                     16.50\n",
      "Date:                Mon, 11 Dec 2023   Prob (F-statistic):           2.99e-40\n",
      "Time:                        14:25:37   Log-Likelihood:                -6508.6\n",
      "No. Observations:                1394   AIC:                         1.305e+04\n",
      "Df Residuals:                    1378   BIC:                         1.313e+04\n",
      "Df Model:                          15                                         \n",
      "Covariance Type:            nonrobust                                         \n",
      "=====================================================================================\n",
      "                        coef    std err          t      P>|t|      [0.025      0.975]\n",
      "-------------------------------------------------------------------------------------\n",
      "Intercept           151.3182      1.160    130.456      0.000     149.043     153.594\n",
      "SEX[T.male]          -5.3834      1.598     -3.368      0.001      -8.519      -2.248\n",
      "sFRW                 17.6415      1.866      9.455      0.000      13.981      21.302\n",
      "sFRW:SEX[T.male]     -0.1140      3.441     -0.033      0.974      -6.865       6.637\n",
      "sAGE                 10.3615      2.119      4.890      0.000       6.205      14.518\n",
      "sAGE:SEX[T.male]     -4.4248      3.179     -1.392      0.164     -10.661       1.811\n",
      "sCHOL                 3.2957      1.965      1.677      0.094      -0.559       7.151\n",
      "SEX[T.male]:sCHOL     1.4369      3.142      0.457      0.648      -4.727       7.600\n",
      "sCIG                  3.7733      3.106      1.215      0.225      -2.319       9.865\n",
      "SEX[T.male]:sCIG     -3.9094      3.599     -1.086      0.278     -10.970       3.151\n",
      "sFRW:sCIG             3.6765      3.373      1.090      0.276      -2.941      10.294\n",
      "sFRW:sAGE            -1.8501      2.848     -0.650      0.516      -7.437       3.737\n",
      "sFRW:sCHOL            4.8912      2.735      1.788      0.074      -0.475      10.257\n",
      "sAGE:sCHOL           -4.8509      3.091     -1.569      0.117     -10.914       1.212\n",
      "sAGE:sCIG            -0.3247      3.143     -0.103      0.918      -6.490       5.840\n",
      "sCHOL:sCIG           -1.6344      3.368     -0.485      0.628      -8.242       4.973\n",
      "==============================================================================\n",
      "Omnibus:                      303.518   Durbin-Watson:                   1.802\n",
      "Prob(Omnibus):                  0.000   Jarque-Bera (JB):              750.095\n",
      "Skew:                           1.164   Prob(JB):                    1.32e-163\n",
      "Kurtosis:                       5.738   Cond. No.                         7.93\n",
      "==============================================================================\n",
      "\n",
      "Notes:\n",
      "[1] Standard Errors assume that the covariance matrix of the errors is correctly specified.\n"
     ]
    },
    {
     "data": {
      "image/png": "[encoded data removed]",
      "text/plain": [
       "<Figure size 432x288 with 1 Axes>"
      ]
     },
     "metadata": {
      "needs_background": "light"
     },
     "output_type": "display_data"
    }
   ],
   "source": [
    "# exercise 8\n",
    "# Put your solution here!\n",
    "\n",
    "fit = smf.ols('SBP ~ sFRW + sAGE + SEX + sCHOL + sCIG + sFRW:sCIG + sFRW:sAGE + sFRW:SEX + sFRW:sCHOL + sAGE:SEX + sAGE:sCHOL + sAGE:sCIG + SEX:sCHOL + SEX:sCIG + sCHOL:sCIG', data=fram).fit()\n",
    "p=fit.params\n",
    "\n",
    "fram[fram.SEX==\"female\"].plot.scatter(\"sFRW\", \"SBP\")\n",
    "\n",
    "abline_plot(intercept=p.Intercept - p[\"sCHOL\"], slope=p.sFRW - p[\"sFRW:sCHOL\"], ax=plt.gca(), color=\"blue\", label=\"small\")\n",
    "abline_plot(intercept=p.Intercept, slope=p.sFRW, ax=plt.gca(), color=\"magenta\", label=\"average\")\n",
    "abline_plot(intercept=p.Intercept + p[\"sCHOL\"], slope=p.sFRW + p[\"sFRW:sCHOL\"], ax=plt.gca(), color=\"grey\", label=\"large\")\n",
    "plt.legend()\n",
    "\n",
    "print(fit.summary())"
   ]
  },
  {
   "cell_type": "markdown",
   "metadata": {},
   "source": [
    "How does the model and its accuracy look?\n",
    "\n",
    "***\n",
    "\n",
    "Your solution here.\n",
    "\n",
    "R-squared of the model is 0.152, which tells us that the model is not very accurate.\n",
    "\n",
    "From the model, we can see that there is a positive correlation between a persons weight and a persons blood pressure. Also, blood pressure is more dependent on weight as a person's cholestoral increases.\n",
    "\n",
    "***"
   ]
  },
  {
   "cell_type": "markdown",
   "metadata": {},
   "source": [
    "# Logistic regression"
   ]
  },
  {
   "cell_type": "code",
   "execution_count": 79,
   "metadata": {},
   "outputs": [],
   "source": [
    "def logistic(x):\n",
    "    return 1.0 / (1.0 + np.exp(-x))"
   ]
  },
  {
   "cell_type": "markdown",
   "metadata": {},
   "source": [
    "We will continue predicting high blood pressure by taking in some continuous background variables, such as the age."
   ]
  },
  {
   "cell_type": "markdown",
   "metadata": {},
   "source": [
    "Recreate the model `HIGH_BP ~ sFRW + SEX + SEX:sFRW` presented in the introduction. Make sure, that you get the same results. Use name `fit` for the fitted model. Compute and store the error rate into variable `error_rate_orig`."
   ]
  },
  {
   "cell_type": "code",
   "execution_count": 80,
   "metadata": {},
   "outputs": [
    {
     "name": "stdout",
     "output_type": "stream",
     "text": [
      "                 Generalized Linear Model Regression Results                  \n",
      "==============================================================================\n",
      "Dep. Variable:                HIGH_BP   No. Observations:                 1394\n",
      "Model:                            GLM   Df Residuals:                     1390\n",
      "Model Family:                Binomial   Df Model:                            3\n",
      "Link Function:                  logit   Scale:                          1.0000\n",
      "Method:                          IRLS   Log-Likelihood:                -856.87\n",
      "Date:                Mon, 11 Dec 2023   Deviance:                       1713.7\n",
      "Time:                        14:38:45   Pearson chi2:                 1.39e+03\n",
      "No. Iterations:                     4   Pseudo R-squ. (CS):            0.06351\n",
      "Covariance Type:            nonrobust                                         \n",
      "====================================================================================\n",
      "                       coef    std err          z      P>|z|      [0.025      0.975]\n",
      "------------------------------------------------------------------------------------\n",
      "Intercept            0.7631      0.082      9.266      0.000       0.602       0.925\n",
      "SEX[T.male]         -0.1624      0.120     -1.350      0.177      -0.398       0.073\n",
      "sFRW                 1.0738      0.176      6.095      0.000       0.728       1.419\n",
      "SEX[T.male]:sFRW     0.2709      0.287      0.943      0.346      -0.292       0.834\n",
      "====================================================================================\n"
     ]
    },
    {
     "name": "stderr",
     "output_type": "stream",
     "text": [
      "/home/kakolgab/.local/lib/python3.10/site-packages/statsmodels/genmod/families/links.py:13: FutureWarning: The logit link alias is deprecated. Use Logit instead. The logit link alias will be removed after the 0.15.0 release.\n",
      "  warnings.warn(\n"
     ]
    }
   ],
   "source": [
    "# exercise 9\n",
    "# Put your solution here!\n",
    "\n",
    "fram[\"HIGH_BP\"] = (fram.SBP >= 140) | (fram.DBP >= 90)\n",
    "fram.HIGH_BP = fram.HIGH_BP.map(int)\n",
    "fit = smf.glm(formula=\"HIGH_BP ~ sFRW + SEX + SEX:sFRW\", data=fram, family=sm.families.Binomial(statsmodels.genmod.families.links.logit())).fit()\n",
    "error_rate_orig = np.mean(((fit.fittedvalues < 0.5) & fram.HIGH_BP) | ((fit.fittedvalues > 0.5) & ~fram.HIGH_BP))\n",
    "print(fit.summary())"
   ]
  },
  {
   "cell_type": "markdown",
   "metadata": {},
   "source": [
    "Add the `sAGE` variable and its interactions. Check the prediction accuracy of the model and compare it to the previous model. Store the prediction accuracy to variable `error_rate`."
   ]
  },
  {
   "cell_type": "code",
   "execution_count": 81,
   "metadata": {},
   "outputs": [
    {
     "name": "stdout",
     "output_type": "stream",
     "text": [
      "                 Generalized Linear Model Regression Results                  \n",
      "==============================================================================\n",
      "Dep. Variable:                HIGH_BP   No. Observations:                 1394\n",
      "Model:                            GLM   Df Residuals:                     1387\n",
      "Model Family:                Binomial   Df Model:                            6\n",
      "Link Function:                  logit   Scale:                          1.0000\n",
      "Method:                          IRLS   Log-Likelihood:                -845.51\n",
      "Date:                Mon, 11 Dec 2023   Deviance:                       1691.0\n",
      "Time:                        14:38:48   Pearson chi2:                 1.39e+03\n",
      "No. Iterations:                     4   Pseudo R-squ. (CS):            0.07865\n",
      "Covariance Type:            nonrobust                                         \n",
      "====================================================================================\n",
      "                       coef    std err          z      P>|z|      [0.025      0.975]\n",
      "------------------------------------------------------------------------------------\n",
      "Intercept            0.8079      0.084      9.569      0.000       0.642       0.973\n",
      "SEX[T.male]         -0.1983      0.121     -1.632      0.103      -0.436       0.040\n",
      "sFRW                 1.0196      0.180      5.670      0.000       0.667       1.372\n",
      "SEX[T.male]:sFRW     0.3754      0.289      1.297      0.195      -0.192       0.943\n",
      "sAGE                 0.6008      0.173      3.466      0.001       0.261       0.941\n",
      "sAGE:SEX[T.male]    -0.5727      0.239     -2.392      0.017      -1.042      -0.103\n",
      "sAGE:sFRW           -0.7588      0.276     -2.750      0.006      -1.300      -0.218\n",
      "====================================================================================\n"
     ]
    },
    {
     "name": "stderr",
     "output_type": "stream",
     "text": [
      "/home/kakolgab/.local/lib/python3.10/site-packages/statsmodels/genmod/families/links.py:13: FutureWarning: The logit link alias is deprecated. Use Logit instead. The logit link alias will be removed after the 0.15.0 release.\n",
      "  warnings.warn(\n"
     ]
    }
   ],
   "source": [
    "# exercise 10\n",
    "# Put your solution here!\n",
    "\n",
    "fram[\"HIGH_BP\"] = (fram.SBP >= 140) | (fram.DBP >= 90)\n",
    "fram.HIGH_BP = fram.HIGH_BP.map(int)\n",
    "fit = smf.glm(formula=\"HIGH_BP ~ sFRW + SEX + sAGE + SEX:sFRW + sAGE:sFRW + sAGE:SEX\", data=fram, family=sm.families.Binomial(statsmodels.genmod.families.links.logit())).fit()\n",
    "error_rate = np.mean(((fit.fittedvalues < 0.5) & fram.HIGH_BP) | ((fit.fittedvalues > 0.5) & ~fram.HIGH_BP))\n",
    "print(fit.summary())"
   ]
  },
  {
   "cell_type": "markdown",
   "metadata": {},
   "source": [
    "Visualize the predicted probability of high blood pressure as the function of weight. Remember to use normalized values (`rescale`) also for those variables that are not included in the visualization, so that sensible values are used for them (data average). Draw two figures with altogether six curves: young, middle aged, and old women; and young, middle aged, and old men. Use `plt.subplots`. (Plotting works in similar fashion as in the introduction. The argument factors need, however, be changed as in the example about visualisation of continuous variable.) "
   ]
  },
  {
   "cell_type": "code",
   "execution_count": 84,
   "metadata": {},
   "outputs": [
    {
     "data": {
      "text/plain": [
       "<matplotlib.legend.Legend at 0x7f6d9123c2e0>"
      ]
     },
     "execution_count": 84,
     "metadata": {},
     "output_type": "execute_result"
    },
    {
     "data": {
      "image/png": "[encoded data removed]",
      "text/plain": [
       "<Figure size 1008x288 with 2 Axes>"
      ]
     },
     "metadata": {
      "needs_background": "light"
     },
     "output_type": "display_data"
    }
   ],
   "source": [
    "# exercise 11\n",
    "\n",
    "def logistic(x):\n",
    "    return 1.0 / (1.0 + np.exp(-x))\n",
    "\n",
    "# Put your solution here!\n",
    "\n",
    "fig, ax = plt.subplots(1, 2, subplot_kw={\"xlim\": (-1.6, 3.3), \"xlabel\": \"sFRW\", \"ylabel\": \"HIGH_BP\"}, figsize=(14, 4))\n",
    "X=np.linspace(-2, 4, 100)\n",
    "p=fit.params\n",
    "\n",
    "ax[0].scatter(fram[(fram.SEX==\"female\")].sFRW, fram[(fram.SEX==\"female\")].HIGH_BP)\n",
    "\n",
    "ax[0].plot(X, logistic(X*(p.sFRW - p['sAGE:sFRW']) + p.Intercept - p.sAGE), color=\"blue\", label=\"youngest\")\n",
    "ax[0].plot(X, logistic(X*(p.sFRW)+ p.Intercept), color=\"magenta\", label=\"middle aged\")\n",
    "ax[0].plot(X, logistic(X*(p.sFRW + p['sAGE:sFRW']) + p.Intercept + p.sAGE), color=\"grey\", label=\"oldest\")\n",
    "\n",
    "ax[0].set_title(\"female\")\n",
    "ax[0].legend()\n",
    "\n",
    "ax[1].scatter(fram[(fram.SEX==\"male\")].sFRW, fram[(fram.SEX==\"male\")].HIGH_BP)\n",
    "\n",
    "ax[1].plot(X, logistic(X*(p.sFRW - (p[\"SEX[T.male]:sFRW\"] + p[\"sAGE:sFRW\"])) - p[\"SEX[T.male]\"] + p.Intercept - p.sAGE), color=\"blue\", label=\"youngest\")\n",
    "ax[1].plot(X, logistic(X*(p.sFRW)+ p.Intercept), color=\"magenta\", label=\"middle aged\")\n",
    "ax[1].plot(X, logistic(X*(p.sFRW + (p[\"SEX[T.male]:sFRW\"] + p[\"sAGE:sFRW\"])) + p[\"SEX[T.male]\"] + p.Intercept + p.sAGE), color=\"grey\", label=\"oldest\")\n",
    "\n",
    "ax[1].set_title(\"male\")\n",
    "ax[1].legend()"
   ]
  },
  {
   "cell_type": "markdown",
   "metadata": {},
   "source": [
    "How do the models with different ages and genders differ from each other?\n",
    "\n",
    "***\n",
    "\n",
    "Your solution here.\n",
    "\n",
    "The main difference seen from the models is that men are more affected by weight than women. \n",
    "- Women are more likely to have high blood pressure regardless of their weight. \n",
    "- Old men are more likely to have high blood pressure if they weight more. \n",
    "- Young men with light weight are more likely to have high blood pressure than young women with light weight. \n",
    "- Any men are likely to have lower blood pressure than middle age women with higher weight. \n",
    "\n",
    "***"
   ]
  },
  {
   "cell_type": "markdown",
   "metadata": {},
   "source": [
    "Create here a helper function `train_test_split` that gets a DataFrame as parameter and return a pair of DataFrames: one for training and the second for testing. \n",
    "The function should get parameters in the following way:\n",
    "```python\n",
    "train_test_split(df, train_fraction=0.8)\n",
    "```\n",
    "The data should be split randomly to training and testing DataFrames so that `train_fraction` fraction of data should go into the training set. Use the `sample` method of the DataFrame."
   ]
  },
  {
   "cell_type": "code",
   "execution_count": 86,
   "metadata": {},
   "outputs": [],
   "source": [
    "# exercise 12\n",
    "# Put your solution here!\n",
    "\n",
    "def train_test_split(df, train_fraction=0.8):\n",
    "    train = df.sample(frac=train_fraction)\n",
    "    test = df.loc[~df.index.isin(train.index)]\n",
    "    return train, test"
   ]
  },
  {
   "cell_type": "markdown",
   "metadata": {},
   "source": [
    "Check the prediction accuracy of your model using cross validation. Use 100-fold cross validation and training_fraction 0.8."
   ]
  },
  {
   "cell_type": "code",
   "execution_count": 87,
   "metadata": {},
   "outputs": [
    {
     "name": "stderr",
     "output_type": "stream",
     "text": [
      "/home/kakolgab/.local/lib/python3.10/site-packages/statsmodels/genmod/families/links.py:13: FutureWarning: The logit link alias is deprecated. Use Logit instead. The logit link alias will be removed after the 0.15.0 release.\n",
      "  warnings.warn(\n"
     ]
    },
    {
     "data": {
      "text/plain": [
       "(0.3311827956989248, 0.3488530465949821)"
      ]
     },
     "execution_count": 87,
     "metadata": {},
     "output_type": "execute_result"
    }
   ],
   "source": [
    "# exercise 13\n",
    "np.random.seed(1)\n",
    "# Put your solution here!\n",
    "\n",
    "error_null = []\n",
    "error_model = []\n",
    "\n",
    "for i in range(100):\n",
    "    train, test = train_test_split(fram)\n",
    "    fit = smf.glm(formula=\"HIGH_BP ~ sFRW + SEX + sAGE + SEX:sFRW + sAGE:sFRW + sAGE:SEX\", data=train, family=sm.families.Binomial(statsmodels.genmod.families.links.logit())).fit()\n",
    "    pred = fit.predict(test, transform=True)\n",
    "    error_rate = np.mean(((pred < 0.5) & (test.HIGH_BP==1)) | ((pred > 0.5) & (test.HIGH_BP==0)))\n",
    "    error_model.append(error_rate)\n",
    "    error_null.append((1 - test.HIGH_BP).mean())\n",
    "\n",
    "pd.Series(error_model).mean(), pd.Series(error_null).mean()\n",
    "\n"
   ]
  },
  {
   "cell_type": "markdown",
   "metadata": {},
   "source": [
    "## Predicting coronary heart disease\n",
    "\n",
    "Let us use again the same data to learn a model for the occurrence of coronary heart disease. We will use logistic regression to predict whether a patient *sometimes* shows symptoms of coronary heart disease. For this, add to the data a binary variable `hasCHD`, that describes the event (`CHD > 0`). The binary variable `hadCHD` can get only two values: 0 or 1. As a sanity check, compute the mean of this variable, which tells the number of positive cases."
   ]
  },
  {
   "cell_type": "code",
   "execution_count": 91,
   "metadata": {},
   "outputs": [
    {
     "data": {
      "text/plain": [
       "0.22022955523672882"
      ]
     },
     "execution_count": 91,
     "metadata": {},
     "output_type": "execute_result"
    }
   ],
   "source": [
    "# exercise 14\n",
    "# Put your solution here!\n",
    "\n",
    "fram['hasCHD'] = (fram['CHD'] > 0).astype(int)\n",
    "fram['hasCHD'].mean()"
   ]
  },
  {
   "cell_type": "markdown",
   "metadata": {},
   "source": [
    "Next, form a logistic regression model for variable `hasCHD` by using variables sCHOL, sCIG, and sFRW, and their interactions as explanatory variables. Store the fitted model to variable `fit`. Compute the prediction accuracy of the model, store it to variable `error_rate`."
   ]
  },
  {
   "cell_type": "code",
   "execution_count": 90,
   "metadata": {},
   "outputs": [
    {
     "name": "stdout",
     "output_type": "stream",
     "text": [
      "                 Generalized Linear Model Regression Results                  \n",
      "==============================================================================\n",
      "Dep. Variable:                 hasCHD   No. Observations:                 1394\n",
      "Model:                            GLM   Df Residuals:                     1387\n",
      "Model Family:                Binomial   Df Model:                            6\n",
      "Link Function:                  Logit   Scale:                          1.0000\n",
      "Method:                          IRLS   Log-Likelihood:                -721.19\n",
      "Date:                Wed, 13 Dec 2023   Deviance:                       1442.4\n",
      "Time:                        11:28:48   Pearson chi2:                 1.39e+03\n",
      "No. Iterations:                     4   Pseudo R-squ. (CS):            0.01950\n",
      "Covariance Type:            nonrobust                                         \n",
      "==============================================================================\n",
      "                 coef    std err          z      P>|z|      [0.025      0.975]\n",
      "------------------------------------------------------------------------------\n",
      "Intercept     -1.2888      0.067    -19.101      0.000      -1.421      -1.157\n",
      "sFRW           0.4404      0.130      3.386      0.001       0.185       0.695\n",
      "sCHOL          0.3324      0.130      2.554      0.011       0.077       0.587\n",
      "sCIG           0.4613      0.126      3.666      0.000       0.215       0.708\n",
      "sFRW:sCHOL     0.1359      0.239      0.568      0.570      -0.333       0.604\n",
      "sFRW:sCIG      0.1646      0.258      0.637      0.524      -0.342       0.671\n",
      "sCHOL:sCIG    -0.1022      0.273     -0.374      0.708      -0.637       0.433\n",
      "==============================================================================\n"
     ]
    }
   ],
   "source": [
    "# exercise 15\n",
    "# Put your solution here!\n",
    "\n",
    "fit = smf.glm(formula='hasCHD ~ sFRW + sCHOL + sCIG + sFRW:sCHOL + sFRW:sCIG + sCHOL:sCIG', data=fram,family=sm.families.Binomial()).fit()\n",
    "error_rate = np.mean(((fit.fittedvalues < 0.5) & fram.hasCHD) | ((fit.fittedvalues > 0.5) & ~fram.hasCHD))\n",
    "error_rate\n",
    "print(fit.summary())"
   ]
  },
  {
   "cell_type": "markdown",
   "metadata": {},
   "source": [
    "Visualize the model by using the most important explanator on the x axis. Visualize both the points (with `plt.scatter`)\n",
    "and the logistic curve (with `plt.plot`)."
   ]
  },
  {
   "cell_type": "code",
   "execution_count": 95,
   "metadata": {},
   "outputs": [
    {
     "data": {
      "text/plain": [
       "<matplotlib.legend.Legend at 0x7f6d91beba00>"
      ]
     },
     "execution_count": 95,
     "metadata": {},
     "output_type": "execute_result"
    },
    {
     "data": {
      "image/png": "[encoded data removed]",
      "text/plain": [
       "<Figure size 432x288 with 1 Axes>"
      ]
     },
     "metadata": {
      "needs_background": "light"
     },
     "output_type": "display_data"
    }
   ],
   "source": [
    "# exercise 16\n",
    "def logistic(x):\n",
    "    return 1.0 / (1.0 + np.exp(-x))\n",
    "# Put your solution here!\n",
    "\n",
    "\n",
    "X = np.linspace(-4, 4, 100)\n",
    "plt.xlabel(\"sCIG\")\n",
    "plt.ylabel(\"hasCHD\")\n",
    "plt.scatter(fram.sCIG, fram.hasCHD, marker='d', label='hasCHD')\n",
    "plt.plot(X, logistic(X*fit.params.sCIG + fit.params.Intercept), label='Smoking')\n",
    "plt.legend(loc='upper left')"
   ]
  },
  {
   "cell_type": "markdown",
   "metadata": {},
   "source": [
    "Is the prediction accuracy of the model good or bad? Can we expect to have practical use of the model?\n",
    "\n",
    "***\n",
    "\n",
    "Your solution here.\n",
    "\n",
    "The accuracy rate of the model is 78% (0.77977). The accuracy rate for a model that predicts a disease should be at least 90% so this model is not very accurate. This model is for sure better than taking a random guess, but it is not good enough to be used in practice.\n",
    "\n",
    "***"
   ]
  },
  {
   "cell_type": "markdown",
   "metadata": {},
   "source": [
    "If a person has cholestherol 200, smokes 17 cigarets per day, and has weight 100, then what is the probability that he/she sometimes shows signs of coronal hear disease? Note that the model expects normalized values. Store the normalized values to dictionary called `point`. Store the probability in variable `predicted`."
   ]
  },
  {
   "cell_type": "code",
   "execution_count": 97,
   "metadata": {},
   "outputs": [
    {
     "data": {
      "text/plain": [
       "0.2161616602504101"
      ]
     },
     "execution_count": 97,
     "metadata": {},
     "output_type": "execute_result"
    }
   ],
   "source": [
    "# exercise 17\n",
    "# Put your solution here!\n",
    "\n",
    "point = {}\n",
    "point['sCHOL'] = (200 - fram.CHOL.mean()) / (fram.CHOL.std()*2)\n",
    "point['sFRW'] = (100 - fram.FRW.mean()) / (fram.FRW.std()*2)\n",
    "point['sCIG'] = (17 - fram.CIG.mean()) / (fram.CIG.std()*2)\n",
    "\n",
    "pred = fit.predict(point, transform=True)\n",
    "predicted = pred.values[0]\n",
    "predicted"
   ]
  }
 ],
 "metadata": {
  "kernelspec": {
   "display_name": "Python 3",
   "language": "python",
   "name": "python3"
  },
  "language_info": {
   "codemirror_mode": {
    "name": "ipython",
    "version": 3
   },
   "file_extension": ".py",
   "mimetype": "text/x-python",
   "name": "python",
   "nbconvert_exporter": "python",
   "pygments_lexer": "ipython3",
   "version": "3.10.12"
  }
 },
 "nbformat": 4,
 "nbformat_minor": 2
}
